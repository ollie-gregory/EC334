{
 "cells": [
  {
   "cell_type": "markdown",
   "metadata": {},
   "source": [
    "# Data Cleaning"
   ]
  },
  {
   "cell_type": "code",
   "execution_count": 137,
   "metadata": {},
   "outputs": [],
   "source": [
    "import pandas as pd"
   ]
  },
  {
   "cell_type": "markdown",
   "metadata": {},
   "source": [
    "## Firm data"
   ]
  },
  {
   "cell_type": "code",
   "execution_count": 138,
   "metadata": {},
   "outputs": [],
   "source": [
    "firm_data = pd.read_csv('./data/dirty/bds2021_fa.csv')"
   ]
  },
  {
   "cell_type": "code",
   "execution_count": 139,
   "metadata": {},
   "outputs": [
    {
     "name": "stdout",
     "output_type": "stream",
     "text": [
      "<class 'pandas.core.frame.DataFrame'>\n",
      "RangeIndex: 528 entries, 0 to 527\n",
      "Data columns (total 5 columns):\n",
      " #   Column  Non-Null Count  Dtype \n",
      "---  ------  --------------  ----- \n",
      " 0   year    528 non-null    int64 \n",
      " 1   fage    528 non-null    object\n",
      " 2   firms   528 non-null    object\n",
      " 3   estabs  528 non-null    object\n",
      " 4   emp     528 non-null    object\n",
      "dtypes: int64(1), object(4)\n",
      "memory usage: 20.8+ KB\n"
     ]
    }
   ],
   "source": [
    "firm_data.info()"
   ]
  },
  {
   "cell_type": "code",
   "execution_count": 140,
   "metadata": {},
   "outputs": [
    {
     "data": {
      "text/html": [
       "<div>\n",
       "<style scoped>\n",
       "    .dataframe tbody tr th:only-of-type {\n",
       "        vertical-align: middle;\n",
       "    }\n",
       "\n",
       "    .dataframe tbody tr th {\n",
       "        vertical-align: top;\n",
       "    }\n",
       "\n",
       "    .dataframe thead th {\n",
       "        text-align: right;\n",
       "    }\n",
       "</style>\n",
       "<table border=\"1\" class=\"dataframe\">\n",
       "  <thead>\n",
       "    <tr style=\"text-align: right;\">\n",
       "      <th></th>\n",
       "      <th>year</th>\n",
       "      <th>fage</th>\n",
       "      <th>firms</th>\n",
       "      <th>estabs</th>\n",
       "      <th>emp</th>\n",
       "    </tr>\n",
       "  </thead>\n",
       "  <tbody>\n",
       "    <tr>\n",
       "      <th>0</th>\n",
       "      <td>1978</td>\n",
       "      <td>a) 0</td>\n",
       "      <td>486456</td>\n",
       "      <td>493546</td>\n",
       "      <td>2545510</td>\n",
       "    </tr>\n",
       "    <tr>\n",
       "      <th>1</th>\n",
       "      <td>1978</td>\n",
       "      <td>b) 1</td>\n",
       "      <td>355229</td>\n",
       "      <td>365696</td>\n",
       "      <td>2345414</td>\n",
       "    </tr>\n",
       "    <tr>\n",
       "      <th>2</th>\n",
       "      <td>1978</td>\n",
       "      <td>c) 2</td>\n",
       "      <td>X</td>\n",
       "      <td>X</td>\n",
       "      <td>X</td>\n",
       "    </tr>\n",
       "    <tr>\n",
       "      <th>3</th>\n",
       "      <td>1978</td>\n",
       "      <td>d) 3</td>\n",
       "      <td>X</td>\n",
       "      <td>X</td>\n",
       "      <td>X</td>\n",
       "    </tr>\n",
       "    <tr>\n",
       "      <th>4</th>\n",
       "      <td>1978</td>\n",
       "      <td>e) 4</td>\n",
       "      <td>X</td>\n",
       "      <td>X</td>\n",
       "      <td>X</td>\n",
       "    </tr>\n",
       "  </tbody>\n",
       "</table>\n",
       "</div>"
      ],
      "text/plain": [
       "   year  fage   firms  estabs      emp\n",
       "0  1978  a) 0  486456  493546  2545510\n",
       "1  1978  b) 1  355229  365696  2345414\n",
       "2  1978  c) 2       X       X        X\n",
       "3  1978  d) 3       X       X        X\n",
       "4  1978  e) 4       X       X        X"
      ]
     },
     "execution_count": 140,
     "metadata": {},
     "output_type": "execute_result"
    }
   ],
   "source": [
    "firm_data.head()"
   ]
  },
  {
   "cell_type": "markdown",
   "metadata": {},
   "source": [
    "### Cleaning the firm age column"
   ]
  },
  {
   "cell_type": "code",
   "execution_count": 141,
   "metadata": {},
   "outputs": [
    {
     "data": {
      "text/plain": [
       "array(['a) 0', 'b) 1', 'c) 2', 'd) 3', 'e) 4', 'f) 5', 'g) 6 to 10',\n",
       "       'h) 11 to 15', 'i) 16 to 20', 'j) 21 to 25', 'k) 26+',\n",
       "       'l) Left Censored'], dtype=object)"
      ]
     },
     "execution_count": 141,
     "metadata": {},
     "output_type": "execute_result"
    }
   ],
   "source": [
    "firm_data['fage'].unique()"
   ]
  },
  {
   "cell_type": "code",
   "execution_count": 142,
   "metadata": {},
   "outputs": [],
   "source": [
    "def extract_age(x):\n",
    "    try:\n",
    "        age = x.split(' ')[1:]\n",
    "        \n",
    "        if len(age) == 1:\n",
    "            return age[0]\n",
    "        \n",
    "        age = ' '.join(age)\n",
    "        age = age.replace(' to ', '-')\n",
    "        \n",
    "        return age\n",
    "    except:\n",
    "        return None\n",
    "    \n",
    "firm_data['fage'] = firm_data['fage'].apply(extract_age)"
   ]
  },
  {
   "cell_type": "code",
   "execution_count": 143,
   "metadata": {},
   "outputs": [
    {
     "data": {
      "text/plain": [
       "array(['0', '1', '2', '3', '4', '5', '6-10', '11-15', '16-20', '21-25',\n",
       "       '26+', 'Left Censored'], dtype=object)"
      ]
     },
     "execution_count": 143,
     "metadata": {},
     "output_type": "execute_result"
    }
   ],
   "source": [
    "firm_data['fage'].unique()"
   ]
  },
  {
   "cell_type": "code",
   "execution_count": 144,
   "metadata": {},
   "outputs": [],
   "source": [
    "# drop all rows that include 'X'\n",
    "firm_data = firm_data[firm_data['firms'] != 'X']"
   ]
  },
  {
   "cell_type": "code",
   "execution_count": 145,
   "metadata": {},
   "outputs": [],
   "source": [
    "firm_data.to_csv('./data/clean/firm_data.csv', index=False)"
   ]
  },
  {
   "cell_type": "markdown",
   "metadata": {},
   "source": [
    "## Aggregate data"
   ]
  },
  {
   "cell_type": "code",
   "execution_count": 146,
   "metadata": {},
   "outputs": [],
   "source": [
    "aggregate = pd.read_csv('./data/dirty/bds2021_aggregate.csv')"
   ]
  },
  {
   "cell_type": "markdown",
   "metadata": {},
   "source": [
    "### Create firm birth and death rates"
   ]
  },
  {
   "cell_type": "code",
   "execution_count": 147,
   "metadata": {},
   "outputs": [],
   "source": [
    "df = firm_data[firm_data['fage'] == '0'].copy()\n",
    "df.rename(columns={'firms': 'firmbirth_firms', 'estabs': 'firmbirth_estabs', 'emp': 'firmbirth_emp'}, inplace=True)\n",
    "df.drop(columns=['fage'], inplace=True)"
   ]
  },
  {
   "cell_type": "code",
   "execution_count": 148,
   "metadata": {},
   "outputs": [],
   "source": [
    "aggregate = pd.merge(aggregate, df, on='year', how='inner')"
   ]
  },
  {
   "cell_type": "code",
   "execution_count": 149,
   "metadata": {},
   "outputs": [],
   "source": [
    "# convert all columns to numeric\n",
    "for col in aggregate.columns:\n",
    "    if col != 'year':\n",
    "        aggregate[col] = pd.to_numeric(aggregate[col])"
   ]
  },
  {
   "cell_type": "code",
   "execution_count": 150,
   "metadata": {},
   "outputs": [],
   "source": [
    "aggregate['firmbirth_rate'] = aggregate['firmbirth_firms'] / aggregate['firms']\n",
    "aggregate['firmdeath_rate'] = aggregate['firmdeath_firms'] / aggregate['firms']"
   ]
  },
  {
   "cell_type": "code",
   "execution_count": 151,
   "metadata": {},
   "outputs": [],
   "source": [
    "aggregate.to_csv('./data/clean/aggregate.csv', index=False)"
   ]
  },
  {
   "cell_type": "markdown",
   "metadata": {},
   "source": [
    "## R&D"
   ]
  },
  {
   "cell_type": "code",
   "execution_count": 152,
   "metadata": {},
   "outputs": [],
   "source": [
    "real_rnd = pd.read_csv('./data/dirty/real_r&d.csv')\n",
    "\n",
    "real_rnd.rename(columns={'Y694RX1A020NBEA': 'rnd', 'observation_date': 'year'}, inplace=True)"
   ]
  },
  {
   "cell_type": "code",
   "execution_count": 153,
   "metadata": {},
   "outputs": [],
   "source": [
    "patents = pd.read_csv('./data/dirty/patents.csv')\n",
    "\n",
    "patents.rename(columns={'PATENTUSALLTOTAL': 'patents', 'observation_date': 'year'}, inplace=True)\n",
    "\n",
    "pd.merge(patents, real_rnd, on='year', how='outer').to_csv('./data/clean/real_rnd_patents.csv', index=False)"
   ]
  }
 ],
 "metadata": {
  "kernelspec": {
   "display_name": "Python 3",
   "language": "python",
   "name": "python3"
  },
  "language_info": {
   "codemirror_mode": {
    "name": "ipython",
    "version": 3
   },
   "file_extension": ".py",
   "mimetype": "text/x-python",
   "name": "python",
   "nbconvert_exporter": "python",
   "pygments_lexer": "ipython3",
   "version": "3.13.0"
  }
 },
 "nbformat": 4,
 "nbformat_minor": 2
}
